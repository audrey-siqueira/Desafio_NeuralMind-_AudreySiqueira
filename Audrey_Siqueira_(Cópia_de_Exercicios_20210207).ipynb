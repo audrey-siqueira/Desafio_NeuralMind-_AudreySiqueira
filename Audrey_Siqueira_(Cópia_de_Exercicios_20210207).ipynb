{
  "nbformat": 4,
  "nbformat_minor": 0,
  "metadata": {
    "colab": {
      "name": "Audrey Siqueira (Cópia de Exercicios - 20210207)",
      "provenance": [],
      "collapsed_sections": [
        "mTVOQpMfhgLM",
        "udS0Ns4etoJs",
        "RcMz3Vzjt144",
        "2iI7udBFeDlP",
        "JtgSAAKjUfcO",
        "GF_P_GARU62m",
        "cbXIXsDIUmtp",
        "QKnLAyL7zgpa",
        "Flr1lI5o-HpG",
        "ZF_-dJ2nCZtT",
        "vsqzALS4CZtl",
        "qjEl-0l7CZt0",
        "eMwwVtJ1CZt2",
        "XC96wB7PCZt8",
        "LsOThnt8fDJV",
        "O_Sx1QXZxJ3u",
        "JBXxBmWGK3IU",
        "GulfYtzBMx2e",
        "WsrSF8GEiXk4",
        "35I5w8EZdjIo",
        "3UNdHqgSB6S9"
      ],
      "toc_visible": true,
      "include_colab_link": true
    },
    "kernelspec": {
      "display_name": "Python 3",
      "language": "python",
      "name": "python3"
    },
    "language_info": {
      "codemirror_mode": {
        "name": "ipython",
        "version": 3
      },
      "file_extension": ".py",
      "mimetype": "text/x-python",
      "name": "python",
      "nbconvert_exporter": "python",
      "pygments_lexer": "ipython3",
      "version": "3.6.5"
    },
    "toc": {
      "base_numbering": 1,
      "nav_menu": {
        "height": "117px",
        "width": "252px"
      },
      "number_sections": true,
      "sideBar": true,
      "skip_h1_title": false,
      "title_cell": "Table of Contents",
      "title_sidebar": "Contents",
      "toc_cell": false,
      "toc_position": {},
      "toc_section_display": "block",
      "toc_window_display": false
    },
    "varInspector": {
      "cols": {
        "lenName": 16,
        "lenType": 16,
        "lenVar": 40
      },
      "kernels_config": {
        "python": {
          "delete_cmd_postfix": "",
          "delete_cmd_prefix": "del ",
          "library": "var_list.py",
          "varRefreshCmd": "print(var_dic_list())"
        },
        "r": {
          "delete_cmd_postfix": ") ",
          "delete_cmd_prefix": "rm(",
          "library": "var_list.r",
          "varRefreshCmd": "cat(var_dic_list()) "
        }
      },
      "types_to_exclude": [
        "module",
        "function",
        "builtin_function_or_method",
        "instance",
        "_Feature"
      ],
      "window_display": false
    }
  },
  "cells": [
    {
      "cell_type": "markdown",
      "metadata": {
        "id": "view-in-github",
        "colab_type": "text"
      },
      "source": [
        "<a href=\"https://colab.research.google.com/github/audrey-siqueira/Desafio_NeuralMind-_AudreySiqueira/blob/main/Audrey_Siqueira_(C%C3%B3pia_de_Exercicios_20210207).ipynb\" target=\"_parent\"><img src=\"https://colab.research.google.com/assets/colab-badge.svg\" alt=\"Open In Colab\"/></a>"
      ]
    },
    {
      "cell_type": "markdown",
      "metadata": {
        "id": "mTVOQpMfhgLM"
      },
      "source": [
        "## Esté um notebook Colab contendo exercícios de programação em python, numpy e pytorch."
      ]
    },
    {
      "cell_type": "markdown",
      "metadata": {
        "id": "KMoyGt5gXMgK"
      },
      "source": [
        "## Coloque seu nome"
      ]
    },
    {
      "cell_type": "code",
      "metadata": {
        "id": "iBHbXcibXPRe",
        "colab": {
          "base_uri": "https://localhost:8080/"
        },
        "outputId": "829c1855-1850-47cb-cdb5-d63fa2493d39"
      },
      "source": [
        "print('Meu nome é: Audrey Siqueira')"
      ],
      "execution_count": 113,
      "outputs": [
        {
          "output_type": "stream",
          "text": [
            "Meu nome é: Audrey Siqueira\n"
          ],
          "name": "stdout"
        }
      ]
    },
    {
      "cell_type": "markdown",
      "metadata": {
        "id": "e9S5acRbm1Zr"
      },
      "source": [
        "# Parte 1:\n",
        "\n",
        "##Exercícios de Processamento de Dados\n",
        "\n",
        "Nesta parte pode-se usar as bibliotecas nativas do python como a `collections`, `re` e/ou `random`. Também pode-se usar o NumPy."
      ]
    },
    {
      "cell_type": "markdown",
      "metadata": {
        "id": "kxS5h1V8nDn6"
      },
      "source": [
        "##Exercício 1\n",
        "Crie um dicionário com os `k` itens mais frequentes de uma lista.\n",
        "\n",
        "Por exemplo, dada a lista de itens `L=['a', 'a', 'd', 'b', 'd', 'c', 'e', 'a', 'b', 'e', 'e', 'a']` e `k=2`, o resultado deve ser um dicionário cuja chave é o item e o valor é a sua frequência: {'a': 4, 'e': 3}"
      ]
    },
    {
      "cell_type": "code",
      "metadata": {
        "id": "gT08b5Z_nC-j"
      },
      "source": [
        "def top_k(L, k):\n",
        "    a=dict(Counter(L).most_common(k))\n",
        "    print(a)\n",
        "    return"
      ],
      "execution_count": 114,
      "outputs": []
    },
    {
      "cell_type": "markdown",
      "metadata": {
        "id": "KLD_e3C9p4xO"
      },
      "source": [
        "Mostre que sua implementação está correta usando uma entrada com poucos itens:"
      ]
    },
    {
      "cell_type": "code",
      "metadata": {
        "id": "iMW9NiBgnkvA",
        "colab": {
          "base_uri": "https://localhost:8080/"
        },
        "outputId": "685538f7-0642-4b18-e6ee-0f8558e94b0e"
      },
      "source": [
        "from collections import Counter\n",
        "L = ['f', 'a', 'a', 'd', 'b', 'd', 'c', 'e', 'a', 'b', 'e', 'e', 'a', 'd']\n",
        "k = 3\n",
        "resultado = top_k(L=L, k=k)"
      ],
      "execution_count": 115,
      "outputs": [
        {
          "output_type": "stream",
          "text": [
            "{'a': 4, 'd': 3, 'e': 3}\n"
          ],
          "name": "stdout"
        }
      ]
    },
    {
      "cell_type": "markdown",
      "metadata": {
        "id": "wBeqZScQqJ0a"
      },
      "source": [
        "Mostre que sua implementação é eficiente usando uma entrada com 10M de itens:"
      ]
    },
    {
      "cell_type": "code",
      "metadata": {
        "id": "O_lhcm4ko8bY"
      },
      "source": [
        "import random\n",
        "L = random.choices('abcdefghijklmnopqrstuvwxyz', k=10_000_000)\n",
        "k = 10000"
      ],
      "execution_count": 116,
      "outputs": []
    },
    {
      "cell_type": "code",
      "metadata": {
        "id": "L9U-Bgs2o-f_",
        "colab": {
          "base_uri": "https://localhost:8080/"
        },
        "outputId": "00245cd7-25bb-478d-983f-3954d3c0a96c"
      },
      "source": [
        "%%timeit\n",
        "resultado = top_k(L=L, k=k)"
      ],
      "execution_count": 117,
      "outputs": [
        {
          "output_type": "stream",
          "text": [
            "{'k': 385544, 'y': 385506, 't': 385319, 'o': 385263, 'q': 385216, 'j': 384927, 'r': 384903, 'u': 384826, 'f': 384785, 'l': 384763, 'w': 384728, 'e': 384714, 'p': 384699, 'g': 384646, 's': 384630, 'c': 384599, 'h': 384570, 'i': 384346, 'v': 384279, 'z': 384240, 'n': 384114, 'm': 384048, 'a': 384011, 'b': 383871, 'd': 383822, 'x': 383631}\n",
            "{'k': 385544, 'y': 385506, 't': 385319, 'o': 385263, 'q': 385216, 'j': 384927, 'r': 384903, 'u': 384826, 'f': 384785, 'l': 384763, 'w': 384728, 'e': 384714, 'p': 384699, 'g': 384646, 's': 384630, 'c': 384599, 'h': 384570, 'i': 384346, 'v': 384279, 'z': 384240, 'n': 384114, 'm': 384048, 'a': 384011, 'b': 383871, 'd': 383822, 'x': 383631}\n",
            "{'k': 385544, 'y': 385506, 't': 385319, 'o': 385263, 'q': 385216, 'j': 384927, 'r': 384903, 'u': 384826, 'f': 384785, 'l': 384763, 'w': 384728, 'e': 384714, 'p': 384699, 'g': 384646, 's': 384630, 'c': 384599, 'h': 384570, 'i': 384346, 'v': 384279, 'z': 384240, 'n': 384114, 'm': 384048, 'a': 384011, 'b': 383871, 'd': 383822, 'x': 383631}\n",
            "{'k': 385544, 'y': 385506, 't': 385319, 'o': 385263, 'q': 385216, 'j': 384927, 'r': 384903, 'u': 384826, 'f': 384785, 'l': 384763, 'w': 384728, 'e': 384714, 'p': 384699, 'g': 384646, 's': 384630, 'c': 384599, 'h': 384570, 'i': 384346, 'v': 384279, 'z': 384240, 'n': 384114, 'm': 384048, 'a': 384011, 'b': 383871, 'd': 383822, 'x': 383631}\n",
            "1 loop, best of 3: 560 ms per loop\n"
          ],
          "name": "stdout"
        }
      ]
    },
    {
      "cell_type": "markdown",
      "metadata": {
        "id": "oJHDaOz_tK38"
      },
      "source": [
        "## Exercício 2\n",
        "\n",
        "Em processamento de linguagem natural, é comum convertemos as palavras de um texto para uma lista de identificadores dessas palavras. Dado o dicionário `V` abaixo onde as chaves são palavras e os valores são seus respectivos identificadores, converta o texto `D` para uma lista de identificadores.\n",
        "\n",
        "Palavras que não existem no dicionário deverão ser convertidas para o identificador do token `unknown`.\n",
        "\n",
        "O código deve ser insensível a maiúsculas (case-insensitive).\n",
        "\n",
        "Se atente que pontuações (vírgulas, ponto final, etc) também são consideradas palavras."
      ]
    },
    {
      "cell_type": "code",
      "metadata": {
        "id": "rVzv89trtTPc"
      },
      "source": [
        "def tokens_to_ids(text, vocabulary):\n",
        "     import re\n",
        "     import pandas as pd\n",
        "\n",
        "     d=re.findall(r\"[\\w']+|[.,!?;]\",D)\n",
        "     \n",
        "     fora=list(set(d)-set(V.keys()))\n",
        "     a={}\n",
        "     a=a.fromkeys(fora,V['unknown'])\n",
        "     V.update(a)\n",
        "     \n",
        "     #MÉTODO NATIVO SEM AJUDA DO PANDAS PORÉM NÃO ESCALONÁVEL\n",
        "     #Lista_Identificadores =list(map(V.get, d))\n",
        "     #print(Lista_Identificadores)\n",
        "\n",
        "     #ESCALONÁVEL COM PANDAS\n",
        "     Lista_Identificadores = pd.DataFrame().append(V,ignore_index=True)\n",
        "     print(Lista_Identificadores[d].values[0])\n",
        "\n",
        "     return"
      ],
      "execution_count": 118,
      "outputs": []
    },
    {
      "cell_type": "code",
      "metadata": {
        "id": "iApR1h7gY98E",
        "colab": {
          "base_uri": "https://localhost:8080/"
        },
        "outputId": "79e26edb-e1b0-40fa-fc8d-b6ce273a2fb6"
      },
      "source": [
        "V = {'eu': 1, 'de': 2, 'gosto': 3, 'comer': 4, '.': 5, 'unknown': -1}\n",
        "D = 'Eu gosto de comer pizza.'\n",
        "\n",
        "tokens_to_ids(D, V)"
      ],
      "execution_count": 119,
      "outputs": [
        {
          "output_type": "stream",
          "text": [
            "[-1.  3.  2.  4. -1.  5.]\n"
          ],
          "name": "stdout"
        }
      ]
    },
    {
      "cell_type": "markdown",
      "metadata": {
        "id": "aCGZeiqkY-sm"
      },
      "source": [
        "Mostre que sua implementação esta correta com um exemplo pequeno:\n",
        "\n",
        "---\n",
        "\n"
      ]
    },
    {
      "cell_type": "markdown",
      "metadata": {
        "id": "dWtTMxlXZN25"
      },
      "source": [
        "Mostre que sua implementação é eficiente com um exemplo grande:"
      ]
    },
    {
      "cell_type": "code",
      "metadata": {
        "id": "pxT_g-ZxZUsX"
      },
      "source": [
        "V = {'eu': 1, 'de': 2, 'gosto': 3, 'comer': 4, '.': 5, 'unknown': -1}\n",
        "D = ' '.join(1_000_000* ['Eu gosto de comer pizza.'])"
      ],
      "execution_count": 120,
      "outputs": []
    },
    {
      "cell_type": "code",
      "metadata": {
        "id": "kp1nataGZU-V",
        "colab": {
          "base_uri": "https://localhost:8080/"
        },
        "outputId": "fccabe5d-f5a4-4fe6-ccdd-2aa94ad97d64"
      },
      "source": [
        "%%timeit\n",
        "tokens_to_ids(D, V)"
      ],
      "execution_count": 121,
      "outputs": [
        {
          "output_type": "stream",
          "text": [
            "[-1.  3.  2. ...  4. -1.  5.]\n",
            "[-1.  3.  2. ...  4. -1.  5.]\n",
            "[-1.  3.  2. ...  4. -1.  5.]\n",
            "[-1.  3.  2. ...  4. -1.  5.]\n",
            "1 loop, best of 3: 3.93 s per loop\n"
          ],
          "name": "stdout"
        }
      ]
    },
    {
      "cell_type": "markdown",
      "metadata": {
        "id": "XRfaKfXwRXn_"
      },
      "source": [
        "## Exercício 3\n",
        "\n",
        "Em aprendizado profundo é comum termos que lidar com arquivos muito grandes.\n",
        "\n",
        "Dado um arquivo de texto onde cada item é separado por `\\n`, escreva um programa que amostre `k` itens desse arquivo aleatoriamente.\n",
        "\n",
        "Nota 1: Assuma amostragem de uma distribuição uniforme, ou seja, todos os itens tem a mesma probablidade de amostragem.\n",
        "\n",
        "Nota 2: Assuma que o arquivo não cabe em memória.\n",
        "\n",
        "Nota 3: Utilize apenas bibliotecas nativas do python."
      ]
    },
    {
      "cell_type": "code",
      "metadata": {
        "id": "2PsadE9SRG_9"
      },
      "source": [
        "def sample(path: str, k: int):\n",
        "     import random\n",
        "     arquivo = open(filename)\n",
        "     arquivo_conteudo = arquivo.read()\n",
        "     arquivo_separado = arquivo_conteudo.splitlines()\n",
        "\n",
        "     random.shuffle(arquivo_separado)\n",
        "\n",
        "     return arquivo_separado[0:k]"
      ],
      "execution_count": 122,
      "outputs": []
    },
    {
      "cell_type": "markdown",
      "metadata": {
        "id": "ycEnlFWxSt0i"
      },
      "source": [
        "Mostre que sua implementação está correta com um exemplo pequeno:"
      ]
    },
    {
      "cell_type": "code",
      "metadata": {
        "id": "vyLJ1e2ZSzC9",
        "colab": {
          "base_uri": "https://localhost:8080/"
        },
        "outputId": "3627b40d-4671-43b6-c776-712d20c4fce3"
      },
      "source": [
        "filename = 'small.txt'\n",
        "total_size = 100\n",
        "n_samples = 10\n",
        "\n",
        "with open(filename, 'w') as fout:\n",
        "    fout.write('\\n'.join(f'line {i}' for i in range(total_size)))\n",
        "\n",
        "samples = sample(path=filename, k=n_samples)\n",
        "\n",
        "print(samples)\n",
        "print(len(samples) == n_samples)"
      ],
      "execution_count": 123,
      "outputs": [
        {
          "output_type": "stream",
          "text": [
            "['line 52', 'line 13', 'line 77', 'line 39', 'line 58', 'line 72', 'line 43', 'line 30', 'line 97', 'line 95']\n",
            "True\n"
          ],
          "name": "stdout"
        }
      ]
    },
    {
      "cell_type": "markdown",
      "metadata": {
        "id": "2r4FMiMj12Xg"
      },
      "source": [
        "Mostre que sua implementação é eficiente com um exemplo grande:"
      ]
    },
    {
      "cell_type": "code",
      "metadata": {
        "id": "PUwnNMGg18Ty"
      },
      "source": [
        "filename = 'large.txt'\n",
        "total_size = 1_000_000\n",
        "n_samples = 10000\n",
        "\n",
        "with open(filename, 'w') as fout:\n",
        "    fout.write('\\n'.join(f'line {i}' for i in range(total_size)))"
      ],
      "execution_count": 124,
      "outputs": []
    },
    {
      "cell_type": "code",
      "metadata": {
        "id": "iA9sAZmo0UDN",
        "colab": {
          "base_uri": "https://localhost:8080/"
        },
        "outputId": "632e4743-5902-49e8-dbd0-594b654b2328"
      },
      "source": [
        "%%timeit\n",
        "samples = sample(path=filename, k=n_samples)\n",
        "assert len(samples) == n_samples"
      ],
      "execution_count": 125,
      "outputs": [
        {
          "output_type": "stream",
          "text": [
            "1 loop, best of 3: 995 ms per loop\n"
          ],
          "name": "stdout"
        }
      ]
    },
    {
      "cell_type": "markdown",
      "metadata": {
        "id": "udS0Ns4etoJs"
      },
      "source": [
        "# Parte 2:\n",
        "\n",
        "##Exercícios de Numpy\n",
        "\n",
        "Nesta parte deve-se usar apenas a biblioteca NumPy. Aqui não se pode usar o PyTorch."
      ]
    },
    {
      "cell_type": "markdown",
      "metadata": {
        "id": "RcMz3Vzjt144"
      },
      "source": [
        "##Exercício 1\n",
        "\n",
        "Quantos operações de ponto flutuante (flops) de soma e de multiplicação tem a multiplicação matricial $AB$, sendo que a matriz $A$ tem tamanho $m \\times n$ e a matriz $B$ tem tamanho $n \\times p$?"
      ]
    },
    {
      "cell_type": "markdown",
      "metadata": {
        "id": "4gNXj45RJqUm"
      },
      "source": [
        "Resposta:\n",
        "- número de somas: **mp(n −1)** \n",
        "- número de multiplicações: **mnp** \n",
        "- número de flops: **2mnp-mp (aproximadamente 2mnp )**"
      ]
    },
    {
      "cell_type": "markdown",
      "metadata": {
        "id": "2iI7udBFeDlP"
      },
      "source": [
        "## Exercício 2\n",
        "\n",
        "Em programação matricial, não se faz o loop em cada elemento da matriz,\n",
        "mas sim, utiliza-se operações matriciais.\n",
        "\n",
        "Dada a matriz `A` abaixo, calcule a média dos valores de cada linha sem utilizar laços explícitos.\n",
        "\n",
        "Utilize apenas a biblioteca numpy."
      ]
    },
    {
      "cell_type": "code",
      "metadata": {
        "id": "cjrXf18N5KrK"
      },
      "source": [
        "import numpy as np"
      ],
      "execution_count": 126,
      "outputs": []
    },
    {
      "cell_type": "code",
      "metadata": {
        "id": "-fqxgNBW27Z0",
        "colab": {
          "base_uri": "https://localhost:8080/"
        },
        "outputId": "fc6bd6e2-7827-4903-ab82-6197d084069d"
      },
      "source": [
        "A = np.arange(24).reshape(4, 6)\n",
        "print(A)"
      ],
      "execution_count": 127,
      "outputs": [
        {
          "output_type": "stream",
          "text": [
            "[[ 0  1  2  3  4  5]\n",
            " [ 6  7  8  9 10 11]\n",
            " [12 13 14 15 16 17]\n",
            " [18 19 20 21 22 23]]\n"
          ],
          "name": "stdout"
        }
      ]
    },
    {
      "cell_type": "code",
      "metadata": {
        "id": "J1EmKFrT5g7B",
        "colab": {
          "base_uri": "https://localhost:8080/"
        },
        "outputId": "844c5c25-5b9e-4331-d8c0-4c8f1f00a4b3"
      },
      "source": [
        "np.vstack(A.mean(1))\r\n"
      ],
      "execution_count": 128,
      "outputs": [
        {
          "output_type": "execute_result",
          "data": {
            "text/plain": [
              "array([[ 2.5],\n",
              "       [ 8.5],\n",
              "       [14.5],\n",
              "       [20.5]])"
            ]
          },
          "metadata": {
            "tags": []
          },
          "execution_count": 128
        }
      ]
    },
    {
      "cell_type": "markdown",
      "metadata": {
        "id": "JtgSAAKjUfcO"
      },
      "source": [
        "## Exercício 3\n",
        "\n",
        "Seja a matriz $C$ que é a normalização da matriz $A$:\n",
        "$$ C(i,j) = \\frac{A(i,j) - A_{min}}{A_{max} - A_{min}} $$\n",
        "\n",
        "Normalizar a matriz `A` do exercício acima de forma que seus valores fiquem entre 0 e 1."
      ]
    },
    {
      "cell_type": "code",
      "metadata": {
        "ExecuteTime": {
          "end_time": "2019-12-11T00:00:34.072719Z",
          "start_time": "2019-12-11T00:00:34.036017Z"
        },
        "id": "_pDhb2-0eDlS",
        "colab": {
          "base_uri": "https://localhost:8080/"
        },
        "outputId": "4e08860a-8251-4733-9fd4-3574863ec414"
      },
      "source": [
        "A = np.arange(24).reshape(4, 6)\n",
        "num= A.min()\n",
        "den=(A.max()-A.min())\n",
        "Normalized=(A-num)/(den)\n",
        "print(Normalized)\n",
        "\n"
      ],
      "execution_count": 130,
      "outputs": [
        {
          "output_type": "stream",
          "text": [
            "[[0.         0.04347826 0.08695652 0.13043478 0.17391304 0.2173913 ]\n",
            " [0.26086957 0.30434783 0.34782609 0.39130435 0.43478261 0.47826087]\n",
            " [0.52173913 0.56521739 0.60869565 0.65217391 0.69565217 0.73913043]\n",
            " [0.7826087  0.82608696 0.86956522 0.91304348 0.95652174 1.        ]]\n"
          ],
          "name": "stdout"
        }
      ]
    },
    {
      "cell_type": "markdown",
      "metadata": {
        "id": "GF_P_GARU62m"
      },
      "source": [
        "## Exercício 4\n",
        "\n",
        "Modificar o exercício anterior de forma que os valores de cada *coluna* da matriz `A` sejam normalizados entre 0 e 1 independentemente dos valores das outras colunas.\n"
      ]
    },
    {
      "cell_type": "code",
      "metadata": {
        "colab": {
          "base_uri": "https://localhost:8080/"
        },
        "id": "OMPwRkr4v1vC",
        "outputId": "d74a5e4a-a421-4a9f-9f44-4ac797affd31"
      },
      "source": [
        "A = np.arange(24).reshape(4, 6)\r\n",
        "print(A)\r\n"
      ],
      "execution_count": 131,
      "outputs": [
        {
          "output_type": "stream",
          "text": [
            "[[ 0  1  2  3  4  5]\n",
            " [ 6  7  8  9 10 11]\n",
            " [12 13 14 15 16 17]\n",
            " [18 19 20 21 22 23]]\n"
          ],
          "name": "stdout"
        }
      ]
    },
    {
      "cell_type": "code",
      "metadata": {
        "id": "6NgVzFOYeDla",
        "colab": {
          "base_uri": "https://localhost:8080/"
        },
        "outputId": "0a455ee9-267a-4345-9369-f675b2b81ece"
      },
      "source": [
        "A = np.arange(24).reshape(4, 6)\n",
        "\n",
        "mins = np.min(A, axis=0)\n",
        "maxs = np.max(A, axis=0)\n",
        "dens = maxs - mins\n",
        "\n",
        "Normalized_by_Columns = (A-mins)/(dens)\n",
        "\n",
        "print(Normalized_by_Columns.round(2))\n"
      ],
      "execution_count": 132,
      "outputs": [
        {
          "output_type": "stream",
          "text": [
            "[[0.   0.   0.   0.   0.   0.  ]\n",
            " [0.33 0.33 0.33 0.33 0.33 0.33]\n",
            " [0.67 0.67 0.67 0.67 0.67 0.67]\n",
            " [1.   1.   1.   1.   1.   1.  ]]\n"
          ],
          "name": "stdout"
        }
      ]
    },
    {
      "cell_type": "markdown",
      "metadata": {
        "id": "cbXIXsDIUmtp"
      },
      "source": [
        "## Exercício 5\n",
        "\n",
        "Modificar o exercício anterior de forma que os valores de cada *linha* da matriz `A` sejam normalizados entre 0 e 1 independentemente dos valores das outras linhas. A solução deve funcionar para qualquer tamanho de matriz.\n"
      ]
    },
    {
      "cell_type": "code",
      "metadata": {
        "ExecuteTime": {
          "end_time": "2019-12-10T17:56:40.413601Z",
          "start_time": "2019-12-10T17:56:40.405056Z"
        },
        "id": "i-5Hv8-heDlW",
        "colab": {
          "base_uri": "https://localhost:8080/"
        },
        "outputId": "6cae084e-8f1f-4978-d18c-3c5807d156b5"
      },
      "source": [
        "A = np.arange(24).reshape(4, 6)\n",
        "A=np.transpose(A)\n",
        "\n",
        "mins = np.min(A, axis=0)\n",
        "maxs = np.max(A, axis=0)\n",
        "dens = maxs - mins\n",
        "\n",
        "Normalized_by_Lines = (A-mins)/(dens)\n",
        "Normalized_by_Lines =np.transpose(Normalized_by_Lines)\n",
        "\n",
        "\n",
        "print(Normalized_by_Lines.round(2))\n"
      ],
      "execution_count": 133,
      "outputs": [
        {
          "output_type": "stream",
          "text": [
            "[[0.  0.2 0.4 0.6 0.8 1. ]\n",
            " [0.  0.2 0.4 0.6 0.8 1. ]\n",
            " [0.  0.2 0.4 0.6 0.8 1. ]\n",
            " [0.  0.2 0.4 0.6 0.8 1. ]]\n"
          ],
          "name": "stdout"
        }
      ]
    },
    {
      "cell_type": "markdown",
      "metadata": {
        "id": "QKnLAyL7zgpa"
      },
      "source": [
        "## Exercício 6\n",
        "\n",
        "A [função softmax](https://en.wikipedia.org/wiki/Softmax_function) é bastante usada em aprendizado de máquina para converter uma lista de números para uma distribuição de probabilidade, isto é, os números ficarão normalizados entre zero e um e sua soma será igual à um.\n",
        "\n",
        "Implemente a função softmax com suporte para batches, ou seja, o softmax deve ser aplicado a cada linha da matriz. Deve-se usar apenas a biblioteca numpy. Se atente que a exponenciação gera estouro de representação quando os números da entrada são muito grandes. Tente corrigir isto."
      ]
    },
    {
      "cell_type": "code",
      "metadata": {
        "id": "lA5W9vxNEmOj"
      },
      "source": [
        "import numpy as np\n",
        "\n",
        "\n",
        "def softmax(A):\n",
        "    '''\n",
        "    Aplica a função de softmax à matriz `A`.\n",
        "\n",
        "    Entrada:\n",
        "      `A` é uma matriz M x N, onde M é o número de exemplos a serem processados\n",
        "      independentemente e N é o tamanho de cada exemplo.\n",
        "    \n",
        "    Saída:\n",
        "      Uma matriz M x N, onde a soma de cada linha é igual a um.\n",
        "    '''\n",
        "    col_max = np.amax(A,axis=1,keepdims = True)\n",
        "    A_exp = np.exp(A - col_max)\n",
        "    A_sum = np.sum(A_exp, axis = 1, keepdims = True)\n",
        "    res = A_exp / A_sum\n",
        "    \n",
        "    return res\n",
        "     "
      ],
      "execution_count": 134,
      "outputs": []
    },
    {
      "cell_type": "markdown",
      "metadata": {
        "id": "gpxlbh4ND54q"
      },
      "source": [
        "Mostre que sua implementação está correta usando uma matriz pequena como entrada:"
      ]
    },
    {
      "cell_type": "code",
      "metadata": {
        "colab": {
          "base_uri": "https://localhost:8080/"
        },
        "id": "Qa0J2YVOD1UM",
        "outputId": "31c20132-d1f1-46c0-8fe0-85e77dd6ecd2"
      },
      "source": [
        "A = np.array([[0.5, -1, 1000],\r\n",
        "              [-2,   0, 0.5]])\r\n",
        "softmax(A)"
      ],
      "execution_count": 135,
      "outputs": [
        {
          "output_type": "execute_result",
          "data": {
            "text/plain": [
              "array([[0.        , 0.        , 1.        ],\n",
              "       [0.04861082, 0.35918811, 0.59220107]])"
            ]
          },
          "metadata": {
            "tags": []
          },
          "execution_count": 135
        }
      ]
    },
    {
      "cell_type": "markdown",
      "metadata": {
        "id": "9j2uXmKH8HF4"
      },
      "source": [
        "Rode o código a seguir para verificar se sua implementação do softmax está correta. \n",
        "- A soma de cada linha de A deve ser 1;\n",
        "- Os valores devem estar entre 0 e 1"
      ]
    },
    {
      "cell_type": "code",
      "metadata": {
        "id": "r-sN4STk7qyN",
        "colab": {
          "base_uri": "https://localhost:8080/"
        },
        "outputId": "8e6311ea-381b-41a6-fd16-2bc8e69d772d"
      },
      "source": [
        "np.allclose(softmax(A).sum(axis=1), 1) and softmax(A).min() >= 0 and softmax(A).max() <= 1"
      ],
      "execution_count": 136,
      "outputs": [
        {
          "output_type": "execute_result",
          "data": {
            "text/plain": [
              "True"
            ]
          },
          "metadata": {
            "tags": []
          },
          "execution_count": 136
        }
      ]
    },
    {
      "cell_type": "markdown",
      "metadata": {
        "id": "B5_ZRWRfCZtI"
      },
      "source": [
        "Mostre que sua implementação é eficiente usando uma matriz grande como entrada:"
      ]
    },
    {
      "cell_type": "code",
      "metadata": {
        "id": "bhUeyrGaJ3J2"
      },
      "source": [
        "A = np.random.uniform(low=-10, high=10, size=(128, 100_000))"
      ],
      "execution_count": 137,
      "outputs": []
    },
    {
      "cell_type": "code",
      "metadata": {
        "id": "jaa-C8XkKJin",
        "colab": {
          "base_uri": "https://localhost:8080/"
        },
        "outputId": "181c42fb-d4ce-4a9e-fbff-c0c8540379af"
      },
      "source": [
        "%%timeit\n",
        "softmax(A)"
      ],
      "execution_count": 138,
      "outputs": [
        {
          "output_type": "stream",
          "text": [
            "1 loop, best of 3: 291 ms per loop\n"
          ],
          "name": "stdout"
        }
      ]
    },
    {
      "cell_type": "code",
      "metadata": {
        "id": "ESw1Aw5f7ltp",
        "colab": {
          "base_uri": "https://localhost:8080/"
        },
        "outputId": "9557e315-5053-43d6-d57d-536d778906fc"
      },
      "source": [
        "SM = softmax(A)\n",
        "np.allclose(SM.sum(axis=1), 1) and SM.min() >= 0 and SM.max() <= 1"
      ],
      "execution_count": 139,
      "outputs": [
        {
          "output_type": "execute_result",
          "data": {
            "text/plain": [
              "True"
            ]
          },
          "metadata": {
            "tags": []
          },
          "execution_count": 139
        }
      ]
    },
    {
      "cell_type": "markdown",
      "metadata": {
        "id": "Flr1lI5o-HpG"
      },
      "source": [
        "## Exercício 7\n",
        "\n",
        "A codificação one-hot é usada para codificar entradas categóricas. É uma codificação onde apenas um bit é 1 e os demais são zero, conforme a tabela a seguir.\n",
        "\n",
        "| Decimal | Binary | One-hot\n",
        "| ------- | ------ | -------\n",
        "| 0 | 000    | 1 0 0 0 0 0 0 0\n",
        "| 1 | 001    | 0 1 0 0 0 0 0 0\n",
        "| 2 | 010    | 0 0 1 0 0 0 0 0\n",
        "| 3 | 011    | 0 0 0 1 0 0 0 0\n",
        "| 4 | 100    | 0 0 0 0 1 0 0 0\n",
        "| 5 | 101    | 0 0 0 0 0 1 0 0\n",
        "| 6 | 110    | 0 0 0 0 0 0 1 0\n",
        "| 7 | 111    | 0 0 0 0 0 0 0 1\n",
        "\n"
      ]
    },
    {
      "cell_type": "markdown",
      "metadata": {
        "id": "1CqXP_5ABbfo"
      },
      "source": [
        "Implemente a função one_hot(y, n_classes) que codifique o vetor de inteiros y que possuem valores entre 0 e n_classes-1.\n"
      ]
    },
    {
      "cell_type": "code",
      "metadata": {
        "id": "la-02w7qCH7L"
      },
      "source": [
        "def one_hot(y, n_classes):\n",
        "   hot=np.squeeze(np.eye(n_classes)[y.reshape(-1)])\n",
        "   print(hot)\n",
        "   return"
      ],
      "execution_count": 140,
      "outputs": []
    },
    {
      "cell_type": "code",
      "metadata": {
        "id": "zf5zyZO5Aiz_",
        "colab": {
          "base_uri": "https://localhost:8080/"
        },
        "outputId": "75456043-e1c7-4974-c0bd-835247be6029"
      },
      "source": [
        "N_CLASSES = 9\n",
        "N_SAMPLES = 10\n",
        "\n",
        "y = (np.random.rand((N_SAMPLES)) * N_CLASSES).astype(np.int)\n",
        "print(y)\n",
        "print(one_hot(y, N_CLASSES))"
      ],
      "execution_count": 141,
      "outputs": [
        {
          "output_type": "stream",
          "text": [
            "[2 7 4 0 3 0 8 8 8 8]\n",
            "[[0. 0. 1. 0. 0. 0. 0. 0. 0.]\n",
            " [0. 0. 0. 0. 0. 0. 0. 1. 0.]\n",
            " [0. 0. 0. 0. 1. 0. 0. 0. 0.]\n",
            " [1. 0. 0. 0. 0. 0. 0. 0. 0.]\n",
            " [0. 0. 0. 1. 0. 0. 0. 0. 0.]\n",
            " [1. 0. 0. 0. 0. 0. 0. 0. 0.]\n",
            " [0. 0. 0. 0. 0. 0. 0. 0. 1.]\n",
            " [0. 0. 0. 0. 0. 0. 0. 0. 1.]\n",
            " [0. 0. 0. 0. 0. 0. 0. 0. 1.]\n",
            " [0. 0. 0. 0. 0. 0. 0. 0. 1.]]\n",
            "None\n"
          ],
          "name": "stdout"
        }
      ]
    },
    {
      "cell_type": "markdown",
      "metadata": {
        "id": "6nwuKnQUCzve"
      },
      "source": [
        "Mostre que sua implementação é eficiente usando uma matriz grande como entrada:"
      ]
    },
    {
      "cell_type": "code",
      "metadata": {
        "id": "uwuFy5rWC2tA"
      },
      "source": [
        "N_SAMPLES = 100_000\n",
        "N_CLASSES = 1_000\n",
        "y = (np.random.rand((N_SAMPLES)) * N_CLASSES).astype(np.int)"
      ],
      "execution_count": 142,
      "outputs": []
    },
    {
      "cell_type": "code",
      "metadata": {
        "id": "7azMtF7wDJ2_",
        "colab": {
          "base_uri": "https://localhost:8080/"
        },
        "outputId": "9521d76a-0800-4689-b2bf-f213fabbb821"
      },
      "source": [
        "%%timeit\n",
        "one_hot(y, N_CLASSES)"
      ],
      "execution_count": 143,
      "outputs": [
        {
          "output_type": "stream",
          "text": [
            "[[0. 0. 0. ... 0. 0. 0.]\n",
            " [0. 0. 0. ... 0. 0. 0.]\n",
            " [0. 0. 0. ... 0. 0. 0.]\n",
            " ...\n",
            " [0. 0. 0. ... 0. 0. 0.]\n",
            " [0. 0. 0. ... 0. 0. 0.]\n",
            " [0. 0. 0. ... 0. 0. 0.]]\n",
            "[[0. 0. 0. ... 0. 0. 0.]\n",
            " [0. 0. 0. ... 0. 0. 0.]\n",
            " [0. 0. 0. ... 0. 0. 0.]\n",
            " ...\n",
            " [0. 0. 0. ... 0. 0. 0.]\n",
            " [0. 0. 0. ... 0. 0. 0.]\n",
            " [0. 0. 0. ... 0. 0. 0.]]\n",
            "[[0. 0. 0. ... 0. 0. 0.]\n",
            " [0. 0. 0. ... 0. 0. 0.]\n",
            " [0. 0. 0. ... 0. 0. 0.]\n",
            " ...\n",
            " [0. 0. 0. ... 0. 0. 0.]\n",
            " [0. 0. 0. ... 0. 0. 0.]\n",
            " [0. 0. 0. ... 0. 0. 0.]]\n",
            "[[0. 0. 0. ... 0. 0. 0.]\n",
            " [0. 0. 0. ... 0. 0. 0.]\n",
            " [0. 0. 0. ... 0. 0. 0.]\n",
            " ...\n",
            " [0. 0. 0. ... 0. 0. 0.]\n",
            " [0. 0. 0. ... 0. 0. 0.]\n",
            " [0. 0. 0. ... 0. 0. 0.]]\n",
            "1 loop, best of 3: 162 ms per loop\n"
          ],
          "name": "stdout"
        }
      ]
    },
    {
      "cell_type": "markdown",
      "metadata": {
        "id": "vrGVQFUYI_LP"
      },
      "source": [
        "# Parte 3:\n",
        "\n",
        "##Exercícios Pytorch: Grafo Computacional e Gradientes\n",
        "\n",
        "Nesta parte pode-se usar quaisquer bibliotecas."
      ]
    },
    {
      "cell_type": "markdown",
      "metadata": {
        "id": "BIlQdKAuCZtR"
      },
      "source": [
        "Um dos principais fundamentos para que o PyTorch seja adequado para deep learning é a sua habilidade de calcular o gradiente automaticamente a partir da expressões definidas. Essa facilidade é implementada através do cálculo automático do gradiente e construção dinâmica do grafo computacional."
      ]
    },
    {
      "cell_type": "markdown",
      "metadata": {
        "id": "ZF_-dJ2nCZtT"
      },
      "source": [
        "## Grafo computacional\n",
        "\n",
        "Seja um exemplo simples de uma função de perda J dada pela Soma dos Erros ao Quadrado (SEQ - Sum of Squared Errors): \n",
        "$$ J = \\sum_i (x_i w - y_i)^2 $$\n",
        "que pode ser reescrita como:\n",
        "$$ \\hat{y_i} = x_i w $$\n",
        "$$ e_i = \\hat{y_i} - y_i $$\n",
        "$$ e2_i = e_i^2 $$\n",
        "$$ J = \\sum_i e2_i $$\n",
        "\n",
        "As redes neurais são treinadas através da minimização de uma função de perda usando o método do gradiente descendente. Para ajustar o parâmetro $w$ precisamos calcular o gradiente $  \\frac{ \\partial J}{\\partial w} $. Usando a\n",
        "regra da cadeia podemos escrever:\n",
        "$$ \\frac{ \\partial J}{\\partial w} = \\frac{ \\partial J}{\\partial e2_i} \\frac{ \\partial e2_i}{\\partial e_i} \\frac{ \\partial e_i}{\\partial \\hat{y_i} } \\frac{ \\partial \\hat{y_i}}{\\partial w}$$ "
      ]
    },
    {
      "cell_type": "markdown",
      "metadata": {
        "id": "jboejVQMCZtU"
      },
      "source": [
        "```\n",
        "    y_pred = x * w\n",
        "    e = y_pred - y\n",
        "    e2 = e**2\n",
        "    J = e2.sum()\n",
        "```"
      ]
    },
    {
      "cell_type": "markdown",
      "metadata": {
        "id": "n7JmU6qhc2Y2"
      },
      "source": [
        "As quatro expressões acima, para o cálculo do J podem ser representadas pelo grafo computacional visualizado a seguir: os círculos são as variáveis (tensores), os quadrados são as operações, os números em preto são os cálculos durante a execução das quatro expressões para calcular o J (forward, predict). O cálculo do gradiente, mostrado em vermelho, é calculado pela regra da cadeia, de trás para frente (backward)."
      ]
    },
    {
      "cell_type": "markdown",
      "metadata": {
        "id": "KeeEBKl4CZtV"
      },
      "source": [
        "<img src=\"https://raw.githubusercontent.com/robertoalotufo/files/master/figures/GrafoComputacional.png\" width=\"600pt\"/>"
      ]
    },
    {
      "cell_type": "markdown",
      "metadata": {
        "id": "8yZun7wrCZtX"
      },
      "source": [
        "Para entender melhor o funcionamento do grafo computacional com os tensores, recomenda-se leitura em:\n",
        "\n",
        "https://pytorch.org/docs/stable/notes/autograd.html"
      ]
    },
    {
      "cell_type": "code",
      "metadata": {
        "ExecuteTime": {
          "end_time": "2019-12-11T00:23:00.431853Z",
          "start_time": "2019-12-11T00:23:00.414813Z"
        },
        "id": "HlT2d-4fCZtZ"
      },
      "source": [
        "import torch"
      ],
      "execution_count": 144,
      "outputs": []
    },
    {
      "cell_type": "code",
      "metadata": {
        "ExecuteTime": {
          "end_time": "2019-12-11T00:23:00.863228Z",
          "start_time": "2019-12-11T00:23:00.844457Z"
        },
        "id": "xX0QwUduCZtf",
        "colab": {
          "base_uri": "https://localhost:8080/",
          "height": 35
        },
        "outputId": "88bf80e3-c087-4d48-ace3-14ad1e23d420"
      },
      "source": [
        "torch.__version__"
      ],
      "execution_count": 145,
      "outputs": [
        {
          "output_type": "execute_result",
          "data": {
            "application/vnd.google.colaboratory.intrinsic+json": {
              "type": "string"
            },
            "text/plain": [
              "'1.7.0+cu101'"
            ]
          },
          "metadata": {
            "tags": []
          },
          "execution_count": 145
        }
      ]
    },
    {
      "cell_type": "markdown",
      "metadata": {
        "id": "vsqzALS4CZtl"
      },
      "source": [
        "## Tensor com atributo .requires_grad=*True*\n",
        "Quando um tensor possui o atributo `requires_grad` como verdadeiro, qualquer expressão que utilizar esse tensor irá construir um grafo computacional para permitir posteriormente, após calcular a função a ser derivada, poder usar a regra da cadeia e calcular o gradiente da função em termos dos tensores que possuem o atributo `requires_grad`.\n"
      ]
    },
    {
      "cell_type": "code",
      "metadata": {
        "ExecuteTime": {
          "end_time": "2019-09-29T03:07:22.117010Z",
          "start_time": "2019-09-29T03:07:22.041861Z"
        },
        "id": "foaAb94aCZtm",
        "colab": {
          "base_uri": "https://localhost:8080/"
        },
        "outputId": "043ec861-2ee2-4a81-c3e6-6eb059d7c4c4"
      },
      "source": [
        "y = torch.arange(0, 8, 2).float()\n",
        "y"
      ],
      "execution_count": 146,
      "outputs": [
        {
          "output_type": "execute_result",
          "data": {
            "text/plain": [
              "tensor([0., 2., 4., 6.])"
            ]
          },
          "metadata": {
            "tags": []
          },
          "execution_count": 146
        }
      ]
    },
    {
      "cell_type": "code",
      "metadata": {
        "ExecuteTime": {
          "end_time": "2019-09-29T03:07:28.610934Z",
          "start_time": "2019-09-29T03:07:28.598223Z"
        },
        "id": "no6SdSyICZtr",
        "colab": {
          "base_uri": "https://localhost:8080/"
        },
        "outputId": "5264b54b-b495-4424-f3b1-62eb604e5645"
      },
      "source": [
        "x = torch.arange(0, 4).float()\n",
        "x"
      ],
      "execution_count": 147,
      "outputs": [
        {
          "output_type": "execute_result",
          "data": {
            "text/plain": [
              "tensor([0., 1., 2., 3.])"
            ]
          },
          "metadata": {
            "tags": []
          },
          "execution_count": 147
        }
      ]
    },
    {
      "cell_type": "code",
      "metadata": {
        "ExecuteTime": {
          "end_time": "2019-09-29T03:07:31.523762Z",
          "start_time": "2019-09-29T03:07:31.497683Z"
        },
        "id": "eL_i1mwGCZtw",
        "colab": {
          "base_uri": "https://localhost:8080/"
        },
        "outputId": "fd67c606-8793-4207-f8df-2c556b69b36b"
      },
      "source": [
        "w = torch.ones(1, requires_grad=True)\n",
        "w"
      ],
      "execution_count": 148,
      "outputs": [
        {
          "output_type": "execute_result",
          "data": {
            "text/plain": [
              "tensor([1.], requires_grad=True)"
            ]
          },
          "metadata": {
            "tags": []
          },
          "execution_count": 148
        }
      ]
    },
    {
      "cell_type": "markdown",
      "metadata": {
        "id": "qjEl-0l7CZt0"
      },
      "source": [
        "## Cálculo automático do gradiente da função perda J"
      ]
    },
    {
      "cell_type": "markdown",
      "metadata": {
        "id": "8pUh-SCnCZt1"
      },
      "source": [
        "Seja a expressão: $$ J = \\sum_i ((x_i  w) - y_i)^2 $$\n",
        "\n",
        "Queremos calcular a derivada de $J$ em relação a $w$."
      ]
    },
    {
      "cell_type": "markdown",
      "metadata": {
        "id": "eMwwVtJ1CZt2"
      },
      "source": [
        "### Montagem do grafo computacional - forward\n",
        "\n",
        "Durante a execução da expressão, o grafo computacional é criado. Compare os valores de cada parcela calculada com os valores em preto da figura ilustrativa do grafo computacional."
      ]
    },
    {
      "cell_type": "code",
      "metadata": {
        "ExecuteTime": {
          "end_time": "2019-09-29T03:07:36.290122Z",
          "start_time": "2019-09-29T03:07:36.273229Z"
        },
        "id": "zp2aK4YhCZt3",
        "colab": {
          "base_uri": "https://localhost:8080/"
        },
        "outputId": "3d2b68f1-abb7-456c-cc47-a7a5e9906ed2"
      },
      "source": [
        "# predict (forward)\n",
        "y_pred = x * w; print('y_pred =', y_pred)\n",
        "\n",
        "# cálculo da perda J: loss\n",
        "e = y_pred - y; print('e =',e)\n",
        "\n",
        "e2 = e.pow(2) ; print('e2 =', e2)\n",
        "\n",
        "J = e2.sum()  ; print('J =', J)"
      ],
      "execution_count": 149,
      "outputs": [
        {
          "output_type": "stream",
          "text": [
            "y_pred = tensor([0., 1., 2., 3.], grad_fn=<MulBackward0>)\n",
            "e = tensor([ 0., -1., -2., -3.], grad_fn=<SubBackward0>)\n",
            "e2 = tensor([0., 1., 4., 9.], grad_fn=<PowBackward0>)\n",
            "J = tensor(14., grad_fn=<SumBackward0>)\n"
          ],
          "name": "stdout"
        }
      ]
    },
    {
      "cell_type": "markdown",
      "metadata": {
        "id": "XC96wB7PCZt8"
      },
      "source": [
        "## Auto grad - processa o grafo computacional backward"
      ]
    },
    {
      "cell_type": "markdown",
      "metadata": {
        "ExecuteTime": {
          "end_time": "2017-10-04T15:55:45.308858",
          "start_time": "2017-10-04T15:55:45.304654"
        },
        "id": "kKbf4D0CCZt-"
      },
      "source": [
        "O `backward()` varre o grafo computacional a partir da variável a ele associada (raiz) e calcula o gradiente para todos os tensores que possuem o atributo `requires_grad` como verdadeiro.\n",
        "Observe que os tensores que tiverem o atributo `requires_grad` serão sempre folhas no grafo computacional.\n",
        "O `backward()` destroi o grafo após sua execução. Esse comportamento é padrão no PyTorch. \n",
        "\n",
        "A título ilustrativo, se quisermos depurar os gradientes dos nós que não são folhas no grafo computacional, precisamos primeiro invocar `retain_grad()` em cada um desses nós, como a seguir. Entretanto nos exemplos reais não há necessidade de verificar o gradiente desses nós."
      ]
    },
    {
      "cell_type": "code",
      "metadata": {
        "id": "f-CjLPu6clVo"
      },
      "source": [
        "e2.retain_grad()\n",
        "e.retain_grad()\n",
        "y_pred.retain_grad()"
      ],
      "execution_count": 150,
      "outputs": []
    },
    {
      "cell_type": "markdown",
      "metadata": {
        "id": "WtsZS2Bicof-"
      },
      "source": [
        "E agora calculamos os gradientes com o `backward()`.\n",
        "\n",
        "w.grad é o gradiente de J em relação a w."
      ]
    },
    {
      "cell_type": "code",
      "metadata": {
        "ExecuteTime": {
          "end_time": "2019-09-29T03:07:40.267334Z",
          "start_time": "2019-09-29T03:07:40.247422Z"
        },
        "id": "Z1lnkb0GCZt_",
        "colab": {
          "base_uri": "https://localhost:8080/"
        },
        "outputId": "15078637-da25-441d-9413-47c3db7b50c4"
      },
      "source": [
        "if w.grad: w.grad.zero_()\n",
        "J.backward()\n",
        "print(w.grad)"
      ],
      "execution_count": 151,
      "outputs": [
        {
          "output_type": "stream",
          "text": [
            "tensor([-28.])\n"
          ],
          "name": "stdout"
        }
      ]
    },
    {
      "cell_type": "markdown",
      "metadata": {
        "id": "N1xYDPR_uOcZ"
      },
      "source": [
        "Mostramos agora os gradientes que estão grafados em vermelho no grafo computacional:"
      ]
    },
    {
      "cell_type": "code",
      "metadata": {
        "id": "Enuk2tf0sDyO",
        "colab": {
          "base_uri": "https://localhost:8080/"
        },
        "outputId": "39e581cd-1bed-4b0c-ecf6-e742a993c9b9"
      },
      "source": [
        "print(e2.grad)\n",
        "print(e.grad)\n",
        "print(y_pred.grad)"
      ],
      "execution_count": 152,
      "outputs": [
        {
          "output_type": "stream",
          "text": [
            "tensor([1., 1., 1., 1.])\n",
            "tensor([ 0., -2., -4., -6.])\n",
            "tensor([ 0., -2., -4., -6.])\n"
          ],
          "name": "stdout"
        }
      ]
    },
    {
      "cell_type": "markdown",
      "metadata": {
        "id": "LsOThnt8fDJV"
      },
      "source": [
        "##Exercício 1\n",
        "Calcule o mesmo gradiente ilustrado no exemplo anterior usando a regra das diferenças finitas, de acordo com a equação a seguir, utilizando um valor de $\\Delta w$ bem pequeno.\n",
        "\n",
        "$$ \\frac{\\partial J}{\\partial w} = \\frac{J(w + \\Delta w) - J(w - \\Delta w)}{2 \\Delta w} $$"
      ]
    },
    {
      "cell_type": "code",
      "metadata": {
        "colab": {
          "base_uri": "https://localhost:8080/"
        },
        "id": "dAmySxT5tbMc",
        "outputId": "ccf66baa-4fc1-47ca-992e-99b5e6f90d38"
      },
      "source": [
        "x = torch.arange(0, 4).float()\r\n",
        "print(x)\r\n",
        "y = torch.arange(0, 8, 2).float()\r\n",
        "print(y)\r\n",
        "w = torch.ones(1)\r\n",
        "print(w)"
      ],
      "execution_count": 153,
      "outputs": [
        {
          "output_type": "stream",
          "text": [
            "tensor([0., 1., 2., 3.])\n",
            "tensor([0., 2., 4., 6.])\n",
            "tensor([1.])\n"
          ],
          "name": "stdout"
        }
      ]
    },
    {
      "cell_type": "code",
      "metadata": {
        "colab": {
          "base_uri": "https://localhost:8080/"
        },
        "id": "ZpyQ7kUioJGk",
        "outputId": "de6723b2-d5c3-422a-dd1f-1293fd5a8e22"
      },
      "source": [
        "import numpy as np\r\n",
        "import matplotlib.pyplot as plt\r\n",
        "\r\n",
        "learning_rate = 0.01\r\n",
        "iteracoes = 1\r\n",
        "\r\n",
        "it=[]\r\n",
        "Loss=[]\r\n",
        "\r\n",
        "def J_func(w, x, y):\r\n",
        "     \r\n",
        "    for i in range(iteracoes): \r\n",
        "\r\n",
        "      #Loss Function\r\n",
        "      y_pred = w*x \r\n",
        "      e = y_pred - y\r\n",
        "      e2 = e.pow(2) \r\n",
        "      J = e2.sum() \r\n",
        "\r\n",
        "      #Diferencas finitas EXERCÍCIO 1\r\n",
        "      deltaW=0.5\r\n",
        "      grad = (sum( ( (w+deltaW)*x - y)**2 ) - sum( ( (w-deltaW)*x - y)**2 ))/(2*deltaW)\r\n",
        "        \r\n",
        "      #Novo valor de w\r\n",
        "      w = w - learning_rate * grad\r\n",
        "\r\n",
        "      print(\"iteration {}\".format(i))\r\n",
        "      print (\"loss {} , gradient {} , weight {}\".format(J,grad,w))\r\n",
        "\r\n",
        "      #Para plotar o gráfico\r\n",
        "      it.append(i)\r\n",
        "      Loss.append(J)\r\n",
        "\r\n",
        "\r\n",
        "x = torch.arange(0, 4).float()\r\n",
        "y = torch.arange(0, 8, 2).float()\r\n",
        "w = torch.ones(1)\r\n",
        "         \r\n",
        "J_func(w,x,y) \r\n",
        "\r\n",
        "        \r\n",
        "    "
      ],
      "execution_count": 154,
      "outputs": [
        {
          "output_type": "stream",
          "text": [
            "iteration 0\n",
            "loss 14.0 , gradient -28.0 , weight tensor([1.2800])\n"
          ],
          "name": "stdout"
        }
      ]
    },
    {
      "cell_type": "markdown",
      "metadata": {
        "id": "O_Sx1QXZxJ3u"
      },
      "source": [
        "##Exercício 2\n",
        "\n",
        "Minimizando $J$ pelo gradiente descendente\n",
        "\n",
        "$$ w_{k+1} = w_k - \\lambda \\frac {\\partial J}{\\partial w} $$\n",
        "\n",
        "Supondo que valor inicial ($k=0$) $w_0 = 1$, use learning rate $\\lambda = 0.01$ para calcular o valor do novo $w_{20}$, ou seja, fazendo 20 atualizações de gradientes. Deve-se usar a função `J_func` criada no exercício anterior.\n",
        "\n",
        "Confira se o valor do primeiro gradiente está de acordo com os valores já calculado acima"
      ]
    },
    {
      "cell_type": "code",
      "metadata": {
        "id": "PNszCOED1Wtu",
        "colab": {
          "base_uri": "https://localhost:8080/",
          "height": 1000
        },
        "outputId": "6832fd44-4e88-41e3-bf04-c6bd973408bf"
      },
      "source": [
        "learning_rate = 0.01\n",
        "iteracoes = 20\n",
        "\n",
        "x = torch.arange(0, 4).float()\n",
        "y = torch.arange(0, 8, 2).float()\n",
        "w = torch.ones(1)\n",
        "\n",
        "J_func(w, x, y)\n",
        "\n",
        "#Plotando o gráfico\n",
        "plt.rcParams['figure.figsize'] = (8,5)\n",
        "plt.plot(it,Loss,'o')\n",
        "plt.title('Iterações x Loss')\n",
        "plt.ylabel('Loss')\n",
        "plt.xlabel('Iterações')\n",
        "plt.show()"
      ],
      "execution_count": 155,
      "outputs": [
        {
          "output_type": "stream",
          "text": [
            "iteration 0\n",
            "loss 14.0 , gradient -28.0 , weight tensor([1.2800])\n",
            "iteration 1\n",
            "loss 7.2576003074646 , gradient -20.160001754760742 , weight tensor([1.4816])\n",
            "iteration 2\n",
            "loss 3.762338399887085 , gradient -14.515199661254883 , weight tensor([1.6268])\n",
            "iteration 3\n",
            "loss 1.9503965377807617 , gradient -10.450942993164062 , weight tensor([1.7313])\n",
            "iteration 4\n",
            "loss 1.011085033416748 , gradient -7.524677276611328 , weight tensor([1.8065])\n",
            "iteration 5\n",
            "loss 0.5241461992263794 , gradient -5.41776704788208 , weight tensor([1.8607])\n",
            "iteration 6\n",
            "loss 0.2717175781726837 , gradient -3.90079402923584 , weight tensor([1.8997])\n",
            "iteration 7\n",
            "loss 0.14085862040519714 , gradient -2.8085713386535645 , weight tensor([1.9278])\n",
            "iteration 8\n",
            "loss 0.07302114367485046 , gradient -2.0221714973449707 , weight tensor([1.9480])\n",
            "iteration 9\n",
            "loss 0.03785419464111328 , gradient -1.455963373184204 , weight tensor([1.9626])\n",
            "iteration 10\n",
            "loss 0.019623562693595886 , gradient -1.0482935905456543 , weight tensor([1.9730])\n",
            "iteration 11\n",
            "loss 0.010172933340072632 , gradient -0.754772424697876 , weight tensor([1.9806])\n",
            "iteration 12\n",
            "loss 0.005273666698485613 , gradient -0.5434386730194092 , weight tensor([1.9860])\n",
            "iteration 13\n",
            "loss 0.002733835019171238 , gradient -0.39127540588378906 , weight tensor([1.9899])\n",
            "iteration 14\n",
            "loss 0.0014172064838930964 , gradient -0.28171539306640625 , weight tensor([1.9928])\n",
            "iteration 15\n",
            "loss 0.0007346798083744943 , gradient -0.2028350830078125 , weight tensor([1.9948])\n",
            "iteration 16\n",
            "loss 0.0003808624460361898 , gradient -0.1460399627685547 , weight tensor([1.9962])\n",
            "iteration 17\n",
            "loss 0.0001974297920241952 , gradient -0.1051478385925293 , weight tensor([1.9973])\n",
            "iteration 18\n",
            "loss 0.00010235930676572025 , gradient -0.07571077346801758 , weight tensor([1.9981])\n",
            "iteration 19\n",
            "loss 5.3059407946420833e-05 , gradient -0.05451202392578125 , weight tensor([1.9986])\n"
          ],
          "name": "stdout"
        },
        {
          "output_type": "display_data",
          "data": {
            "image/png": "[encoded data removed]",
            "text/plain": [
              "<Figure size 576x360 with 1 Axes>"
            ]
          },
          "metadata": {
            "tags": [],
            "needs_background": "light"
          }
        }
      ]
    },
    {
      "cell_type": "markdown",
      "metadata": {
        "id": "JBXxBmWGK3IU"
      },
      "source": [
        "##Exercício 3\n",
        "\n",
        "Repita o exercício 2 mas usando agora o calculando o gradiente usando o método backward() do pytorch. Confira se o primeiro valor do gradiente está de acordo com os valores anteriores. Execute essa próxima célula duas vezes. Os valores devem ser iguais.\n"
      ]
    },
    {
      "cell_type": "code",
      "metadata": {
        "id": "lMP4d5vtHtqy",
        "colab": {
          "base_uri": "https://localhost:8080/",
          "height": 1000
        },
        "outputId": "b111a5e3-0f44-4234-ad7c-0c8b58a46dd1"
      },
      "source": [
        "from __future__ import division\n",
        "learning_rate = 0.01\n",
        "iteracoes = 20\n",
        "\n",
        "x = torch.arange(0, 4).float()\n",
        "y = torch.arange(0, 8, 2).float()\n",
        "w = torch.ones(1, requires_grad=True)\n",
        "\n",
        "it=[]\n",
        "Loss=[]\n",
        "\n",
        "def J_func(w, x, y):\n",
        "     \n",
        "  for i in range(iteracoes): \n",
        "\n",
        "      #Loss Function\n",
        "      y_pred = w*x \n",
        "      e = y_pred - y\n",
        "      e2 = e.pow(2) \n",
        "      J = e2.sum() \n",
        "\n",
        "      #método backward() do pytorch EXERCÍCIO 3\n",
        "      if w.grad: w.grad.zero_()\n",
        "      w.retain_grad()\n",
        "      J.backward()\n",
        "      grad=w.grad.item()\n",
        "\n",
        "      w = w - learning_rate*grad\n",
        "\n",
        "      print(\"iteration {}\".format(i))\n",
        "      print (\"loss {} , gradient {} , weight {}\".format(J,grad,w))\n",
        "\n",
        "      #Para plotar o gráfico\n",
        "      it.append(i)\n",
        "      Loss.append(J)\n",
        "\n",
        "  \n",
        "J = J_func(w, x, y)\n",
        "    \n",
        "#Plotando o gráfico\n",
        "plt.rcParams['figure.figsize'] = (8,5)\n",
        "plt.plot(it,Loss,'o')\n",
        "plt.title('Iterações x Loss')\n",
        "plt.ylabel('Loss')\n",
        "plt.xlabel('Iterações')\n",
        "plt.show()"
      ],
      "execution_count": 156,
      "outputs": [
        {
          "output_type": "stream",
          "text": [
            "iteration 0\n",
            "loss 14.0 , gradient -28.0 , weight tensor([1.2800], grad_fn=<SubBackward0>)\n",
            "iteration 1\n",
            "loss 7.2576003074646 , gradient -20.160001754760742 , weight tensor([1.4816], grad_fn=<SubBackward0>)\n",
            "iteration 2\n",
            "loss 3.762338399887085 , gradient -14.51519775390625 , weight tensor([1.6268], grad_fn=<SubBackward0>)\n",
            "iteration 3\n",
            "loss 1.9503965377807617 , gradient -10.450942993164062 , weight tensor([1.7313], grad_fn=<SubBackward0>)\n",
            "iteration 4\n",
            "loss 1.011085033416748 , gradient -7.52467679977417 , weight tensor([1.8065], grad_fn=<SubBackward0>)\n",
            "iteration 5\n",
            "loss 0.5241461992263794 , gradient -5.417766094207764 , weight tensor([1.8607], grad_fn=<SubBackward0>)\n",
            "iteration 6\n",
            "loss 0.2717175781726837 , gradient -3.9007928371429443 , weight tensor([1.8997], grad_fn=<SubBackward0>)\n",
            "iteration 7\n",
            "loss 0.14085862040519714 , gradient -2.808573007583618 , weight tensor([1.9278], grad_fn=<SubBackward0>)\n",
            "iteration 8\n",
            "loss 0.07302114367485046 , gradient -2.0221731662750244 , weight tensor([1.9480], grad_fn=<SubBackward0>)\n",
            "iteration 9\n",
            "loss 0.03785419464111328 , gradient -1.455965280532837 , weight tensor([1.9626], grad_fn=<SubBackward0>)\n",
            "iteration 10\n",
            "loss 0.019623562693595886 , gradient -1.0482935905456543 , weight tensor([1.9730], grad_fn=<SubBackward0>)\n",
            "iteration 11\n",
            "loss 0.010172933340072632 , gradient -0.7547743320465088 , weight tensor([1.9806], grad_fn=<SubBackward0>)\n",
            "iteration 12\n",
            "loss 0.005273666698485613 , gradient -0.5434384346008301 , weight tensor([1.9860], grad_fn=<SubBackward0>)\n",
            "iteration 13\n",
            "loss 0.002733835019171238 , gradient -0.39127326011657715 , weight tensor([1.9899], grad_fn=<SubBackward0>)\n",
            "iteration 14\n",
            "loss 0.0014172473456710577 , gradient -0.281719446182251 , weight tensor([1.9928], grad_fn=<SubBackward0>)\n",
            "iteration 15\n",
            "loss 0.0007347092032432556 , gradient -0.20283913612365723 , weight tensor([1.9948], grad_fn=<SubBackward0>)\n",
            "iteration 16\n",
            "loss 0.00038088360452093184 , gradient -0.14604616165161133 , weight tensor([1.9962], grad_fn=<SubBackward0>)\n",
            "iteration 17\n",
            "loss 0.00019744501332752407 , gradient -0.10515189170837402 , weight tensor([1.9973], grad_fn=<SubBackward0>)\n",
            "iteration 18\n",
            "loss 0.00010235930676572025 , gradient -0.07571077346801758 , weight tensor([1.9981], grad_fn=<SubBackward0>)\n",
            "iteration 19\n",
            "loss 5.3059407946420833e-05 , gradient -0.054509878158569336 , weight tensor([1.9986], grad_fn=<SubBackward0>)\n"
          ],
          "name": "stdout"
        },
        {
          "output_type": "stream",
          "text": [
            "/usr/local/lib/python3.6/dist-packages/ipykernel_launcher.py:23: UserWarning: The .grad attribute of a Tensor that is not a leaf Tensor is being accessed. Its .grad attribute won't be populated during autograd.backward(). If you indeed want the gradient for a non-leaf Tensor, use .retain_grad() on the non-leaf Tensor. If you access the non-leaf Tensor by mistake, make sure you access the leaf Tensor instead. See github.com/pytorch/pytorch/pull/30531 for more informations.\n"
          ],
          "name": "stderr"
        },
        {
          "output_type": "display_data",
          "data": {
            "image/png": "[encoded data removed]",
            "text/plain": [
              "<Figure size 576x360 with 1 Axes>"
            ]
          },
          "metadata": {
            "tags": [],
            "needs_background": "light"
          }
        }
      ]
    },
    {
      "cell_type": "markdown",
      "metadata": {
        "id": "GulfYtzBMx2e"
      },
      "source": [
        "##Exercício 4\n",
        "\n",
        "Quais são as restrições na escolha dos valores de $\\Delta w$ no cálculo do gradiente por diferenças finitas?"
      ]
    },
    {
      "cell_type": "markdown",
      "metadata": {
        "id": "TXQGEyvtiTAR"
      },
      "source": [
        "Resposta: O valor de $\\Delta w$ deve ser pequeno, por ser proporcional ao erro que queremos obter. Se o valor não for pequeno, nossa aproximação será imprecisa, por outro lado se o valor for muito pequeno, nosso erro de aproximação também diminuirá, porém ira exigir mais trabalho do computador."
      ]
    },
    {
      "cell_type": "markdown",
      "metadata": {
        "id": "WsrSF8GEiXk4"
      },
      "source": [
        "##Exercício 5\n",
        "\n",
        "Até agora trabalhamos com $w$ contendo apenas um parâmetro. Suponha agora que $w$ seja uma matriz com $N$ parâmetros e que o custo para executar $(x_i w - y_i)^2$ seja $O(N)$.\n",
        "> a) Qual é o custo computacional para fazer uma única atualização (um passo de gradiente) dos parâmetros de $w$ usando o método das diferencas finitas?\n",
        ">\n",
        "> b) Qual é o custo computacional para fazer uma única atualização (um passo de gradiente) dos parâmetros de $w$ usando o método do backpropagation?\n",
        "\n"
      ]
    },
    {
      "cell_type": "markdown",
      "metadata": {
        "id": "_4Pna3bcicHj"
      },
      "source": [
        "Resposta (justifique):\n",
        "\n",
        "a)  Método de Diferenças finitas possui complexibilidade de **$O(N)$**, devido as subtrações e divisões da iteração não alterarem a complexibilidade original de $(x_i w - y_i)^2$\n",
        "\n",
        "b) Método de backpropagation possui complexibilidade de  **$O(N^2$)**  , devido a complexibilidade das derivadas parciais."
      ]
    },
    {
      "cell_type": "markdown",
      "metadata": {
        "id": "35I5w8EZdjIo"
      },
      "source": [
        "##Exercício 6\n",
        "\n",
        "Qual o custo (entropia cruzada) esperado para um exemplo (uma amostra) no começo do treinamento de um classificador inicializado aleatoriamente?\n",
        "\n",
        "A equação da entropia cruzada é:\n",
        "$$L = - \\sum_{j=0}^{K-1} y_j \\log p_j, $$\n",
        "Onde:\n",
        "\n",
        "- K é o número de classes;\n",
        "\n",
        "- $y_j=1$ se $j$ é a classe do exemplo (ground-truth), 0 caso contrário. Ou seja, $y$ é um vetor one-hot;\n",
        "\n",
        "- $p_j$ é a probabilidade predita pelo modelo para a classe $j$.\n",
        "\n",
        "A resposta tem que ser em função de uma ou mais das seguintes variáveis:\n",
        "\n",
        "- K = número de classes\n",
        "\n",
        "- B = batch size\n",
        "\n",
        "- D = dimensão de qualquer vetor do modelo\n",
        "\n",
        "- LR = learning rate"
      ]
    },
    {
      "cell_type": "markdown",
      "metadata": {
        "id": "swTOphiVs6eN"
      },
      "source": [
        "Resposta: O valor estimado esperado para cada predição vai ser $(k)^-1$, logo a equação de entropia cruzada pode ser resumida em : \r\n",
        "\r\n",
        " $L=-log(k^-1)$, resultando em **$L= log(k)$** .\r\n",
        "\r\n",
        " A entropia cruzada será proporcional ao logaritmo do número de classes."
      ]
    },
    {
      "cell_type": "markdown",
      "metadata": {
        "id": "3UNdHqgSB6S9"
      },
      "source": [
        "## Fim do notebook"
      ]
    }
  ]
}